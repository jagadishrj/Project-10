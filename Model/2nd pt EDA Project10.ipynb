{
 "cells": [
  {
   "cell_type": "markdown",
   "metadata": {},
   "source": [
    "## Importing module"
   ]
  },
  {
   "cell_type": "code",
   "execution_count": 1,
   "metadata": {
    "scrolled": true
   },
   "outputs": [],
   "source": [
    "import pandas as pd \n",
    "import numpy as np\n",
    "import seaborn as sns\n",
    "from ipywidgets import interact\n",
    "import matplotlib.pyplot as plt\n",
    "from sklearn.model_selection import train_test_split\n",
    "from sklearn.linear_model import LinearRegression\n",
    "import itertools\n",
    "  "
   ]
  },
  {
   "cell_type": "markdown",
   "metadata": {},
   "source": [
    "## Importing data"
   ]
  },
  {
   "cell_type": "code",
   "execution_count": 2,
   "metadata": {
    "scrolled": true
   },
   "outputs": [
    {
     "data": {
      "text/plain": [
       "(15521, 41)"
      ]
     },
     "execution_count": 2,
     "metadata": {},
     "output_type": "execute_result"
    }
   ],
   "source": [
    "df=pd.read_csv(\"Oil and Gas 1932-2014.csv\")\n",
    "df.shape"
   ]
  },
  {
   "cell_type": "markdown",
   "metadata": {},
   "source": [
    "## Adding the global Oil and Gas production"
   ]
  },
  {
   "cell_type": "code",
   "execution_count": 3,
   "metadata": {},
   "outputs": [],
   "source": [
    "df['global_oil_prod']=list(df[['year','oil_prod32_14']].groupby(['year']).sum().reset_index().iloc[:,1])*len(df['cty_name'].unique())\n",
    "df['global_gas_prod']=list(df[['year','gas_prod55_14']].groupby(['year']).sum().reset_index().iloc[:,1])*len(df['cty_name'].unique())"
   ]
  },
  {
   "cell_type": "markdown",
   "metadata": {},
   "source": [
    "## Checking For Duplicates values"
   ]
  },
  {
   "cell_type": "code",
   "execution_count": 4,
   "metadata": {},
   "outputs": [
    {
     "data": {
      "text/plain": [
       "(15521, 43)"
      ]
     },
     "execution_count": 4,
     "metadata": {},
     "output_type": "execute_result"
    }
   ],
   "source": [
    "df.drop_duplicates().shape"
   ]
  },
  {
   "cell_type": "code",
   "execution_count": 5,
   "metadata": {},
   "outputs": [
    {
     "name": "stdout",
     "output_type": "stream",
     "text": [
      "<class 'pandas.core.frame.DataFrame'>\n",
      "RangeIndex: 15521 entries, 0 to 15520\n",
      "Data columns (total 43 columns):\n",
      "cty_name                        15521 non-null object\n",
      "iso3numeric                     15521 non-null int64\n",
      "id                              15106 non-null object\n",
      "year                            15521 non-null int64\n",
      "eiacty                          14254 non-null object\n",
      "oil_prod32_14                   10103 non-null float64\n",
      "oil_price_2000                  15503 non-null float64\n",
      "oil_price_nom                   15521 non-null float64\n",
      "oil_value_nom                   10103 non-null float64\n",
      "oil_value_2000                  10103 non-null float64\n",
      "oil_value_2014                  10103 non-null float64\n",
      "gas_prod55_14                   8812 non-null float64\n",
      "gas_price_2000_mboe             15521 non-null float64\n",
      "gas_price_2000                  11220 non-null float64\n",
      "gas_price_nom                   15521 non-null float64\n",
      "gas_value_nom                   8812 non-null float64\n",
      "gas_value_2000                  8812 non-null float64\n",
      "gas_value_2014                  8812 non-null float64\n",
      "oil_gas_value_nom               10234 non-null float64\n",
      "oil_gas_value_2000              10234 non-null float64\n",
      "oil_gas_value_2014              10234 non-null float64\n",
      "oil_gas_valuePOP_nom            10072 non-null float64\n",
      "oil_gas_valuePOP_2000           10072 non-null float64\n",
      "oil_gas_valuePOP_2014           10072 non-null float64\n",
      "oil_exports                     4510 non-null float64\n",
      "net_oil_exports                 4510 non-null float64\n",
      "net_oil_exports_mt              4510 non-null float64\n",
      "net_oil_exports_value           4510 non-null float64\n",
      "net_oil_exports_valuePOP        4505 non-null float64\n",
      "gas_exports                     4018 non-null float64\n",
      "net_gas_exports_bcf             4016 non-null float64\n",
      "net_gas_exports_mboe            4016 non-null float64\n",
      "net_gas_exports_value           3880 non-null float64\n",
      "net_gas_exports_valuePOP        3875 non-null float64\n",
      "net_oil_gas_exports_valuePOP    3875 non-null float64\n",
      "population                      12901 non-null float64\n",
      "pop_maddison                    11804 non-null float64\n",
      "sovereign                       15521 non-null int64\n",
      "mult_nom_2000                   15521 non-null float64\n",
      "mult_nom_2014                   15521 non-null float64\n",
      "mult_2000_2014                  15521 non-null float64\n",
      "global_oil_prod                 15521 non-null float64\n",
      "global_gas_prod                 15521 non-null float64\n",
      "dtypes: float64(37), int64(3), object(3)\n",
      "memory usage: 5.1+ MB\n"
     ]
    }
   ],
   "source": [
    "df.info()"
   ]
  },
  {
   "cell_type": "markdown",
   "metadata": {},
   "source": [
    "## Converting sovereign into Categorical"
   ]
  },
  {
   "cell_type": "code",
   "execution_count": 6,
   "metadata": {},
   "outputs": [
    {
     "data": {
      "text/plain": [
       "CategoricalDtype(categories=[0, 1], ordered=False)"
      ]
     },
     "execution_count": 6,
     "metadata": {},
     "output_type": "execute_result"
    }
   ],
   "source": [
    "df[['sovereign']] = df[['sovereign']].astype('category')\n",
    "df.sovereign.dtype"
   ]
  },
  {
   "cell_type": "markdown",
   "metadata": {},
   "source": [
    "# Checking the Null Ratio"
   ]
  },
  {
   "cell_type": "code",
   "execution_count": 7,
   "metadata": {},
   "outputs": [
    {
     "name": "stdout",
     "output_type": "stream",
     "text": [
      "                         Colname  ratio_null\n",
      "34  net_oil_gas_exports_valuePOP    0.750338\n",
      "33      net_gas_exports_valuePOP    0.750338\n",
      "32         net_gas_exports_value    0.750016\n",
      "31          net_gas_exports_mboe    0.741254\n",
      "30           net_gas_exports_bcf    0.741254\n",
      "29                   gas_exports    0.741125\n",
      "28      net_oil_exports_valuePOP    0.709748\n",
      "24                   oil_exports    0.709426\n",
      "25               net_oil_exports    0.709426\n",
      "26            net_oil_exports_mt    0.709426\n",
      "27         net_oil_exports_value    0.709426\n",
      "11                 gas_prod55_14    0.432253\n",
      "15                 gas_value_nom    0.432253\n",
      "17                gas_value_2014    0.432253\n",
      "16                gas_value_2000    0.432253\n",
      "21          oil_gas_valuePOP_nom    0.351073\n",
      "22         oil_gas_valuePOP_2000    0.351073\n",
      "23         oil_gas_valuePOP_2014    0.351073\n",
      "10                oil_value_2014    0.349075\n",
      "9                 oil_value_2000    0.349075\n",
      "8                  oil_value_nom    0.349075\n",
      "5                  oil_prod32_14    0.349075\n",
      "18             oil_gas_value_nom    0.340635\n",
      "20            oil_gas_value_2014    0.340635\n",
      "19            oil_gas_value_2000    0.340635\n",
      "13                gas_price_2000    0.277108\n",
      "36                  pop_maddison    0.239482\n",
      "35                    population    0.168804\n",
      "4                         eiacty    0.081631\n",
      "2                             id    0.026738\n",
      "6                 oil_price_2000    0.001160\n",
      "37                     sovereign    0.000000\n",
      "38                 mult_nom_2000    0.000000\n",
      "39                 mult_nom_2014    0.000000\n",
      "40                mult_2000_2014    0.000000\n",
      "41               global_oil_prod    0.000000\n",
      "0                       cty_name    0.000000\n",
      "1                    iso3numeric    0.000000\n",
      "14                 gas_price_nom    0.000000\n",
      "12           gas_price_2000_mboe    0.000000\n",
      "7                  oil_price_nom    0.000000\n",
      "3                           year    0.000000\n",
      "42               global_gas_prod    0.000000\n"
     ]
    }
   ],
   "source": [
    "n = len(df)\n",
    "l=pd.DataFrame(df.isnull().sum()).reset_index()\n",
    "l.columns = ['Colname','ratio_null']\n",
    "l['ratio_null']= l.ratio_null/n\n",
    "print(l.sort_values('ratio_null',ascending=False))"
   ]
  },
  {
   "cell_type": "code",
   "execution_count": 8,
   "metadata": {},
   "outputs": [],
   "source": [
    "df.mult_2000_2014.unique()\n",
    "df.replace(np.nan,0,inplace=True)"
   ]
  },
  {
   "cell_type": "markdown",
   "metadata": {},
   "source": [
    "# Correlation Techniques"
   ]
  },
  {
   "cell_type": "markdown",
   "metadata": {},
   "source": [
    "## Segregating Data"
   ]
  },
  {
   "cell_type": "code",
   "execution_count": 9,
   "metadata": {},
   "outputs": [],
   "source": [
    "oil_col=[i for i  in df.columns if 'oil' in i and 'gas' not in i and 'export' not in i and 'value_2014' not in i ];oil_col.extend(['oil_value_2014','gas_value_2014'])\n",
    "gas_col=[i for i  in df.columns if 'gas' in i and 'oil' not in i and 'export' not in i];gas_col.extend(['oil_value_2014',])\n",
    "oil_gas_col=[i for i  in df.columns if 'gas' in i and 'oil'  in i and 'export' not in i];oil_gas_col.extend(['oil_value_2014','gas_value_2014'])\n",
    "export_col=[i for i  in df.columns if  'export'  in i];export_col.extend([\"oil_value_2014\",'gas_value_2014'])\n",
    "other_col= ['year','population','sovereign','mult_nom_2000','mult_nom_2014','oil_value_2014','gas_value_2014']"
   ]
  },
  {
   "cell_type": "markdown",
   "metadata": {},
   "source": [
    "## Correlation Matrix"
   ]
  },
  {
   "cell_type": "code",
   "execution_count": 10,
   "metadata": {},
   "outputs": [
    {
     "data": {
      "application/vnd.jupyter.widget-view+json": {
       "model_id": "0f0dd5fc3df24047b9b11f617d9ce82f",
       "version_major": 2,
       "version_minor": 0
      },
      "text/plain": [
       "interactive(children=(Dropdown(description='data', options=('oil_col', 'gas_col', 'oil_gas_col', 'export_col',…"
      ]
     },
     "metadata": {},
     "output_type": "display_data"
    },
    {
     "data": {
      "text/plain": [
       "<function __main__.heatmap(data)>"
      ]
     },
     "execution_count": 10,
     "metadata": {},
     "output_type": "execute_result"
    }
   ],
   "source": [
    "def heatmap(data): \n",
    "    fig = plt.figure(figsize=(10,10));ax1 = fig.add_subplot();grid = round(df[eval(data)].replace(0,np.nan).dropna().corr(),2);plt.imshow(grid,cmap=plt.cm.get_cmap('coolwarm'));plt.colorbar()\n",
    "    c = [\"\"];c.extend(grid.columns);ax1.set_xticks(np.arange(-1,grid.shape[1]+0.5));ax1.set_yticks(np.arange(-1,grid.shape[1]+0.5))\n",
    "    ax1.set_xticklabels(c,rotation='vertical');ax1.set_yticklabels(c)\n",
    "    for (j,i),label in np.ndenumerate(grid):\n",
    "        ax1.text(i,j,label,ha='center',va='center')         \n",
    "interact(heatmap,data=['oil_col','gas_col','oil_gas_col','export_col','other_col'])    "
   ]
  },
  {
   "cell_type": "markdown",
   "metadata": {},
   "source": [
    "## Top  Features  Correlated With Target"
   ]
  },
  {
   "cell_type": "code",
   "execution_count": 11,
   "metadata": {
    "scrolled": true
   },
   "outputs": [
    {
     "data": {
      "application/vnd.jupyter.widget-view+json": {
       "model_id": "34033217b656472299e74026a0abdd54",
       "version_major": 2,
       "version_minor": 0
      },
      "text/plain": [
       "interactive(children=(Dropdown(description='Target', options=('oil_value_2014', 'gas_value_2014'), value='oil_…"
      ]
     },
     "metadata": {},
     "output_type": "display_data"
    },
    {
     "data": {
      "text/plain": [
       "<function __main__.correlation(Target, cty)>"
      ]
     },
     "execution_count": 11,
     "metadata": {},
     "output_type": "execute_result"
    }
   ],
   "source": [
    "def correlation(Target,cty):\n",
    "        v=pd.DataFrame(df.iloc[:,5:40].corr().loc[:,Target].reset_index())\n",
    "        cor_table=v.loc[(v[Target]>0.3) | (v[Target]<-0.1) ][['index',Target]].sort_values(Target,ascending=False);print('______For Whole Data________');print(cor_table)\n",
    "        print(f\"Total Feature that we are taking into consideration is {len(cor_table)} Feature\")\n",
    "        print('__________________________________________City Wise Correlation Matrix______________')\n",
    "        fig = plt.figure(figsize=(12,12))\n",
    "        ax = fig.add_subplot();grid = round(df[df['cty_name']==cty][cor_table['index']].corr(),2);plt.imshow(grid,cmap=plt.cm.get_cmap('coolwarm'));plt.colorbar()\n",
    "        c = [\"\"];c.extend(grid.columns);ax.set_xticks(np.arange(-1,grid.shape[1]+0.5));ax.set_yticks(np.arange(-1,grid.shape[1]+0.5))\n",
    "        ax.set_xticklabels(c,rotation='vertical');ax.set_yticklabels(c)\n",
    "            \n",
    "        for (j,i),label in np.ndenumerate(grid):\n",
    "                ax.text(i,j,label,ha='center',va='center')\n",
    "        \n",
    "interact(correlation,Target=['oil_value_2014','gas_value_2014'],cty=sorted(set(df.iloc[:,0])))"
   ]
  },
  {
   "cell_type": "markdown",
   "metadata": {},
   "source": [
    "# Reverse Engineering"
   ]
  },
  {
   "cell_type": "markdown",
   "metadata": {},
   "source": [
    "## Checking With R-square and significance"
   ]
  },
  {
   "cell_type": "code",
   "execution_count": 12,
   "metadata": {},
   "outputs": [],
   "source": [
    "import statsmodels.formula.api  as smf"
   ]
  },
  {
   "cell_type": "code",
   "execution_count": 13,
   "metadata": {},
   "outputs": [
    {
     "data": {
      "application/vnd.jupyter.widget-view+json": {
       "model_id": "3ba528d156b74f6295d67e3863bd874c",
       "version_major": 2,
       "version_minor": 0
      },
      "text/plain": [
       "interactive(children=(Dropdown(description='line', options=('oil_coll', 'gas_coll', 'oil_gas_coll', 'export_co…"
      ]
     },
     "metadata": {},
     "output_type": "display_data"
    },
    {
     "data": {
      "text/plain": [
       "<function __main__.test(line, Target)>"
      ]
     },
     "execution_count": 13,
     "metadata": {},
     "output_type": "execute_result"
    }
   ],
   "source": [
    "gas_coll=\"gas_prod55_14+gas_price_2000_mboe+gas_price_2000+gas_price_nom+gas_value_nom+gas_value_2000\"\n",
    "oil_coll=\"oil_prod32_14+oil_price_2000+oil_value_nom+oil_value_2000+oil_price_nom\"\n",
    "oil_gas_coll=\"oil_gas_value_nom+oil_gas_value_2000+oil_gas_value_2014+oil_gas_valuePOP_nom+oil_gas_valuePOP_2000+oil_gas_valuePOP_2014\"\n",
    "export_coll=\"oil_exports+net_oil_exports+net_oil_exports_mt+net_oil_exports_value+net_oil_exports_valuePOP+gas_exports+net_gas_exports_bcf+net_gas_exports_mboe+net_gas_exports_value+net_gas_exports_valuePOP+net_oil_gas_exports_valuePOP\"\n",
    "other_coll= \"population+sovereign+mult_nom_2000+mult_nom_2014\"\n",
    "for_2000=\"oil_prod32_14+oil_price_2000+oil_value_nom+oil_price_nom+oil_value_2000+gas_prod55_14+gas_price_2000_mboe+gas_price_nom+gas_value_nom+gas_value_2000+oil_gas_value_nom+oil_gas_value_2000+oil_gas_valuePOP_nom+oil_gas_valuePOP_2000+sovereign+mult_nom_2000\"\n",
    "for_2014=\"oil_prod32_14+oil_price_2000+oil_value_nom+oil_price_nom+gas_prod55_14+gas_price_2000_mboe+gas_price_nom+gas_value_nom+gas_value_2014+oil_gas_value_nom+oil_gas_value_2014+oil_gas_valuePOP_nom+oil_gas_valuePOP_2014+sovereign+mult_nom_2014\"\n",
    "Final_oil=\"oil_value_2014~year+oil_price_nom+oil_gas_value_2014+oil_value_nom+gas_prod55_14+gas_value_2014+gas_exports\"\n",
    "Final_gas=\"gas_value_2014~year+gas_value_nom+gas_prod55_14+oil_gas_value_2014+oil_prod32_14+gas_exports+oil_value_2014+mult_nom_2014\"\n",
    "Single_value_oil=\"oil_value_2014~oil_value_2000\"\n",
    "Single_value_gas=\"gas_value_2014~gas_value_2000\"\n",
    "ls = ['Final_oil','Final_gas','Single_value_gas','Single_value_oil']\n",
    "def test(line,Target):\n",
    "    if line not in ls:\n",
    "        T=[Target]\n",
    "        T.append(eval(line))\n",
    "        line=\"~\".join(T)\n",
    "        k=line.split(\"~\")[1].split(\"+\");k.extend(line.split(\"~\")[0].split(\"+\"))\n",
    "        lr = smf.ols(line,data=df[k]).fit()\n",
    "    else:\n",
    "        k=eval(line).split(\"~\")[1].split(\"+\");k.extend(eval(line).split(\"~\")[0].split(\"+\"))\n",
    "        lr = smf.ols(eval(line),data=df[k]).fit()\n",
    "    print(lr.summary())\n",
    "interact(test,Target=['oil_value_2014','gas_value_2014'],line=['oil_coll','gas_coll','oil_gas_coll','export_coll','other_coll','for_2000','for_2014','Final_oil','Final_gas','Single_value_gas','Single_value_oil'])"
   ]
  },
  {
   "cell_type": "markdown",
   "metadata": {},
   "source": [
    "## Checking with Loss Function(MAPE)"
   ]
  },
  {
   "cell_type": "code",
   "execution_count": 14,
   "metadata": {
    "scrolled": false
   },
   "outputs": [
    {
     "data": {
      "application/vnd.jupyter.widget-view+json": {
       "model_id": "94aff8b11b3b406bbd64e2aed718e5ee",
       "version_major": 2,
       "version_minor": 0
      },
      "text/plain": [
       "interactive(children=(Dropdown(description='city', options=('Afghanistan', 'Albania', 'Algeria', 'Angola', 'Ar…"
      ]
     },
     "metadata": {},
     "output_type": "display_data"
    },
    {
     "data": {
      "text/plain": [
       "<function __main__.Lmodel(city, Target)>"
      ]
     },
     "execution_count": 14,
     "metadata": {},
     "output_type": "execute_result"
    }
   ],
   "source": [
    "no = ['Armenia', 'Bahamas, The', 'Bhutan', 'Bosnia and Herzegovina', 'Botswana', 'Burkina Faso', 'Burundi', 'Cambodia', 'Cape Verde', 'Central African Republic', 'Comoros', 'Costa Rica', 'Cyprus', 'Djibouti', 'Dominican Republic', 'El Salvador', 'Eritrea', 'Ethiopia', 'Ethiopia including Eritrea', 'Fiji', 'Gambia, The', 'Guinea', 'Guinea-Bissau', 'Guyana', 'Haiti', 'Honduras', 'Iceland', 'Jamaica', 'Kenya', 'Korea, Dem. Rep.', 'Lao PDR', 'Latvia', 'Lebanon', 'Lesotho', 'Liberia', 'Macedonia, FYR', 'Madagascar', 'Malawi', 'Maldives', 'Mali', 'Malta', 'Mauritius', 'Montenegro', 'Namibia', 'Nepal', 'Nicaragua', 'North Vietnam', 'Panama', 'Paraguay', 'Portugal', 'Sierra Leone', 'Singapore', 'Solomon Islands', 'Somalia', 'South Vietnam', 'Sri Lanka', 'Swaziland', 'Togo', 'Uganda', 'Uruguay', 'Yemen, Dem. Rep. (South Yemen)', 'Zambia', 'Zimbabwe']\n",
    "no_oil=['Afghanistan', 'Armenia', 'Bahamas, The', 'Belgium', 'Bhutan', 'Bosnia and Herzegovina', 'Botswana', 'Burkina Faso', 'Burundi', 'Cambodia', 'Cape Verde', 'Central African Republic', 'Comoros', 'Costa Rica', 'Cyprus', 'Djibouti', 'Dominican Republic', 'El Salvador', 'Eritrea', 'Ethiopia', 'Ethiopia including Eritrea', 'Fiji', 'Finland', 'Gambia, The', 'Guinea', 'Guinea-Bissau', 'Guyana', 'Haiti', 'Honduras', 'Iceland', 'Ireland', 'Jamaica', 'Kenya', 'Korea, Dem. Rep.', 'Korea, Rep.', 'Lao PDR', 'Latvia', 'Lebanon', 'Lesotho', 'Liberia', 'Luxembourg', 'Macedonia, FYR', 'Madagascar', 'Malawi', 'Maldives', 'Mali', 'Malta', 'Mauritius', 'Moldova', 'Montenegro', 'Mozambique', 'Namibia', 'Nepal', 'Nicaragua', 'North Vietnam', 'Panama', 'Paraguay', 'Portugal', 'Rwanda', 'Sierra Leone', 'Singapore', 'Solomon Islands', 'Somalia', 'South Vietnam', 'Sri Lanka', 'Swaziland', 'Switzerland', 'Tanzania', 'Togo', 'Uganda', 'Uruguay', 'Yemen, Dem. Rep. (South Yemen)', 'Zambia', 'Zimbabwe']\n",
    "no_gas=['Armenia', 'Bahamas, The', 'Belize', 'Benin', 'Bhutan', 'Bosnia and Herzegovina', 'Botswana', 'Burkina Faso', 'Burundi', 'Cambodia', 'Cape Verde', 'Central African Republic', 'Comoros', 'Costa Rica', 'Cyprus', 'Djibouti', 'Dominican Republic', 'East Timor', 'El Salvador', 'Eritrea', 'Estonia', 'Ethiopia', 'Ethiopia including Eritrea', 'Fiji', 'Gambia, The', 'Guinea', 'Guinea-Bissau', 'Guyana', 'Haiti', 'Honduras', 'Iceland', 'Jamaica', 'Kenya', 'Korea, Dem. Rep.', 'Lao PDR', 'Latvia', 'Lebanon', 'Lesotho', 'Liberia', 'Lithuania', 'Macedonia, FYR', 'Madagascar', 'Malawi', 'Maldives', 'Mali', 'Malta', 'Mauritania', 'Mauritius', 'Mongolia', 'Montenegro', 'Namibia', 'Nepal', 'Nicaragua', 'Niger', 'North Vietnam', 'Panama', 'Paraguay', 'Portugal', 'Sierra Leone', 'Singapore', 'Solomon Islands', 'Somalia', 'South Sudan', 'South Vietnam', 'Sri Lanka', 'Sudan', 'Sudan including South Sudan', 'Suriname', 'Swaziland', 'Sweden', 'Togo', 'Uganda', 'Uruguay', 'Yemen Arab Rep. (North Yemen)', 'Yemen, Dem. Rep. (South Yemen)', 'Zambia', 'Zimbabwe']\n",
    "\n",
    "def Lmodel(city,Target):\n",
    "    if city not in no_oil:\n",
    "        colr = Final_oil.split(\"~\")[1].split(\"+\");colr.append('oil_value_2014')\n",
    "    else:\n",
    "        colr = Final_gas.split(\"~\")[1].split(\"+\");colr.append('gas_value_2014')\n",
    "    try:    \n",
    "        X = pd.DataFrame.copy(df.loc[df.cty_name == city,colr]).reset_index()\n",
    "        X[Target].replace(0,np.nan,inplace=True);X.dropna(inplace=True)\n",
    "        _ = X.pop('index')\n",
    "        Xtrain = X.iloc[0:round(X.shape[0]*0.7),:]\n",
    "        Xtest = X.iloc[round(X.shape[0]*0.7):,:]\n",
    "        Ytrain = Xtrain.pop(Target).reset_index()\n",
    "        _ = Ytrain.pop('index')\n",
    "        Ytest = Xtest.pop(Target).reset_index()\n",
    "        _ = Ytest.pop('index')\n",
    "        Tryear =Xtrain[['year']].reset_index()\n",
    "        _ = Tryear.pop('index')\n",
    "        Teyear = Xtest[['year']].reset_index()\n",
    "        _ = Teyear.pop('index')\n",
    "        \n",
    "        lrm = LinearRegression()\n",
    "        lrm.fit(Xtrain,Ytrain)\n",
    "        \n",
    "        fig = plt.figure(figsize=(18,6))\n",
    "        ax1 = fig.add_subplot(1,2,1)\n",
    "        ax2 = fig.add_subplot(1,2,2)\n",
    "        pred = lrm.predict(Xtest)\n",
    "        predd = pd.DataFrame(pred)\n",
    "        lol = pd.concat([predd,Ytest,Teyear],axis=1)\n",
    "        lol.columns = ['predicted','actual','year']\n",
    "    \n",
    "        pred2 = lrm.predict(Xtrain)\n",
    "        predd2 = pd.DataFrame(pred2)\n",
    "        lol2 = pd.concat([predd2,Ytrain,Tryear],axis=1)\n",
    "        lol2.columns = ['predicted','actual','year']\n",
    "\n",
    "        print(lol2[['predicted','actual']].corr())\n",
    "        print(f\"RMSE is {np.mean((lol2.actual-lol2.predicted)**2)}\")\n",
    "        print(f\"MAPE is {np.mean(abs((lol2.actual-lol2.predicted))/lol2.actual)}\")\n",
    "        print(lol[['predicted','actual']].corr())\n",
    "        print(f\"RMSE is {np.sqrt(np.mean((lol.actual-lol.predicted)**2))}\")\n",
    "        print(f\"MAPE is {np.mean(abs((lol.actual-lol.predicted))/lol.actual)}\")\n",
    "\n",
    "        lol.plot(x = 'year',y = 'actual',ax=ax2)\n",
    "        lol.plot(x = 'year',y = 'predicted',ax=ax2)\n",
    "        ax2.set_title('Test')\n",
    "        lol2.plot(x = 'year',y = 'actual',ax=ax1)\n",
    "        lol2.plot(x = 'year',y = 'predicted',ax=ax1)\n",
    "        ax1.set_title('Train')\n",
    "    except:\n",
    "        if city in no_oil and (Target=='oil_value_2014'):\n",
    "            print('___________________________Here Oil Production is Zero_______')\n",
    "        if city in no_gas and (Target=='gas_value_2014'):\n",
    "            print('___________________________Here Gas Production is Zero_______')\n",
    "interact(Lmodel,city = [i for i in sorted(list(set(df.cty_name)))if i not in no],Target=['oil_value_2014','gas_value_2014'])"
   ]
  },
  {
   "cell_type": "code",
   "execution_count": 15,
   "metadata": {},
   "outputs": [],
   "source": [
    "#df[df['cty_name']=='Azerbaijan'][['year','oil_prod32_14']].tail(35)"
   ]
  },
  {
   "cell_type": "markdown",
   "metadata": {},
   "source": [
    "# Wrraper Method Feature Selection"
   ]
  },
  {
   "cell_type": "markdown",
   "metadata": {},
   "source": [
    "## Forward Selction"
   ]
  },
  {
   "cell_type": "code",
   "execution_count": 16,
   "metadata": {},
   "outputs": [],
   "source": [
    "#  data=df.iloc[:,3:40];data.drop(['sovereign','eiacty'],axis=1,inplace=True)"
   ]
  },
  {
   "cell_type": "code",
   "execution_count": 17,
   "metadata": {},
   "outputs": [],
   "source": [
    "#  x_train,x_test,y_train,y_test=train_test_split(data.drop('oil_value_2014',axis=1),data.oil_value_2014,test_size=0.25,random_state=1)"
   ]
  },
  {
   "cell_type": "code",
   "execution_count": 18,
   "metadata": {},
   "outputs": [],
   "source": [
    "#  x_train.fillna(0,inplace=True);y_train.fillna(0,inplace=True)"
   ]
  },
  {
   "cell_type": "code",
   "execution_count": 19,
   "metadata": {
    "scrolled": true
   },
   "outputs": [],
   "source": [
    "# # !pip install mlxtend\n",
    "# from mlxtend.feature_selection import SequentialFeatureSelector as sfs\n",
    "# from sklearn.ensemble import RandomForestRegressor\n",
    "# np.random.seed(42)\n",
    "# model=sfs(RandomForestRegressor(),k_features=15,forward=True,verbose=2,cv=5,n_jobs=-1,scoring='r2')\n",
    "# model.fit(x_train,y_train)"
   ]
  },
  {
   "cell_type": "code",
   "execution_count": 20,
   "metadata": {},
   "outputs": [],
   "source": [
    "# print(list(model.k_feature_names_))"
   ]
  },
  {
   "cell_type": "markdown",
   "metadata": {},
   "source": [
    "## Backward Elimination"
   ]
  },
  {
   "cell_type": "code",
   "execution_count": 21,
   "metadata": {},
   "outputs": [],
   "source": [
    "# backward_Model=sfs(RandomForestRegressor(),k_features=10,forward=False,verbose=2,cv=5,n_jobs=-1,scoring='r2')\n",
    "# np.random.seed(42)\n",
    "# backward_Model.fit(np.array(x_train),y_train)"
   ]
  },
  {
   "cell_type": "code",
   "execution_count": 22,
   "metadata": {},
   "outputs": [],
   "source": [
    "# backward_Model.k_feature_idx_"
   ]
  },
  {
   "cell_type": "code",
   "execution_count": 23,
   "metadata": {
    "scrolled": true
   },
   "outputs": [],
   "source": [
    "# c=x_train.columns[list(backward_Model.k_feature_idx_)]\n",
    "# c"
   ]
  },
  {
   "cell_type": "markdown",
   "metadata": {},
   "source": [
    "## Exhaustive Selection"
   ]
  },
  {
   "cell_type": "code",
   "execution_count": 24,
   "metadata": {},
   "outputs": [],
   "source": [
    "# from mlxtend.feature_selection import ExhaustiveFeatureSelector as efs\n",
    "# Exhaustive_model=efs(RandomForestRegressor(),min_features=3,max_features=5,scoring='r2',n_jobs=-1)\n",
    "# np.random.seed(42)\n",
    "# miniData=x_train[x_train.columns[list(backward_Model.k_feature_idx_)]]\n",
    "# Exhaustive_model.fit(np.array(miniData),y_train)"
   ]
  },
  {
   "cell_type": "code",
   "execution_count": 25,
   "metadata": {},
   "outputs": [],
   "source": [
    "# c[list(Exhaustive_model.best_idx_)]\n"
   ]
  },
  {
   "cell_type": "code",
   "execution_count": null,
   "metadata": {},
   "outputs": [],
   "source": []
  }
 ],
 "metadata": {
  "kernelspec": {
   "display_name": "Python 3",
   "language": "python",
   "name": "python3"
  },
  "language_info": {
   "codemirror_mode": {
    "name": "ipython",
    "version": 3
   },
   "file_extension": ".py",
   "mimetype": "text/x-python",
   "name": "python",
   "nbconvert_exporter": "python",
   "pygments_lexer": "ipython3",
   "version": "3.6.5"
  },
  "toc": {
   "base_numbering": 1,
   "nav_menu": {},
   "number_sections": true,
   "sideBar": true,
   "skip_h1_title": false,
   "title_cell": "Table of Contents",
   "title_sidebar": "Contents",
   "toc_cell": false,
   "toc_position": {
    "height": "calc(100% - 180px)",
    "left": "10px",
    "top": "150px",
    "width": "273.2px"
   },
   "toc_section_display": true,
   "toc_window_display": false
  }
 },
 "nbformat": 4,
 "nbformat_minor": 2
}
