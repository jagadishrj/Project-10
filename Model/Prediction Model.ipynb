{
 "cells": [
  {
   "cell_type": "markdown",
   "metadata": {},
   "source": [
    "# Importing Module"
   ]
  },
  {
   "cell_type": "code",
   "execution_count": 1,
   "metadata": {},
   "outputs": [],
   "source": [
    "import pandas as pd \n",
    "import numpy as np\n",
    "import seaborn as sns\n",
    "from ipywidgets import interact\n",
    "import matplotlib.pyplot as plt\n",
    "from sklearn.model_selection import train_test_split\n",
    "from sklearn.linear_model import LinearRegression\n",
    "from sklearn.ensemble import GradientBoostingRegressor\n",
    "from sklearn.ensemble import RandomForestRegressor  \n",
    "from catboost import CatBoostRegressor\n",
    "from xgboost import XGBRegressor\n",
    "from sklearn.neighbors import KNeighborsRegressor\n",
    "#from xgboost import plot_importance"
   ]
  },
  {
   "cell_type": "markdown",
   "metadata": {},
   "source": [
    "# Importing Data"
   ]
  },
  {
   "cell_type": "code",
   "execution_count": 2,
   "metadata": {},
   "outputs": [],
   "source": [
    "df=pd.read_csv(\"Oil and Gas 1932-2014.csv\")\n",
    "df.shape\n",
    "df.replace(np.nan,0,inplace=True)"
   ]
  },
  {
   "cell_type": "markdown",
   "metadata": {},
   "source": [
    "# Tree Based Model"
   ]
  },
  {
   "cell_type": "markdown",
   "metadata": {},
   "source": [
    "## CatBoost"
   ]
  },
  {
   "cell_type": "code",
   "execution_count": 3,
   "metadata": {},
   "outputs": [
    {
     "data": {
      "application/vnd.jupyter.widget-view+json": {
       "model_id": "8cff915ad4114423908699afaaad10fd",
       "version_major": 2,
       "version_minor": 0
      },
      "text/plain": [
       "interactive(children=(Dropdown(description='cty', options=('Albania', 'Algeria', 'Angola', 'Argentina', 'Austr…"
      ]
     },
     "metadata": {},
     "output_type": "display_data"
    },
    {
     "data": {
      "text/plain": [
       "<function __main__.Accuracy(cty)>"
      ]
     },
     "execution_count": 3,
     "metadata": {},
     "output_type": "execute_result"
    }
   ],
   "source": [
    "no_oil=['Afghanistan', 'Armenia', 'Bahamas, The', 'Belgium', 'Bhutan', 'Bosnia and Herzegovina', 'Botswana', 'Burkina Faso', 'Burundi', 'Cambodia', 'Cape Verde', 'Central African Republic', 'Comoros', 'Costa Rica', 'Cyprus', 'Djibouti', 'Dominican Republic', 'El Salvador', 'Eritrea', 'Ethiopia', 'Ethiopia including Eritrea', 'Fiji', 'Finland', 'Gambia, The', 'Guinea', 'Guinea-Bissau', 'Guyana', 'Haiti', 'Honduras', 'Iceland', 'Ireland', 'Jamaica', 'Kenya', 'Korea, Dem. Rep.', 'Korea, Rep.', 'Lao PDR', 'Latvia', 'Lebanon', 'Lesotho', 'Liberia', 'Luxembourg', 'Macedonia, FYR', 'Madagascar', 'Malawi', 'Maldives', 'Mali', 'Malta', 'Mauritius', 'Moldova', 'Montenegro', 'Mozambique', 'Namibia', 'Nepal', 'Nicaragua', 'North Vietnam', 'Panama', 'Paraguay', 'Portugal', 'Rwanda', 'Sierra Leone', 'Singapore', 'Solomon Islands', 'Somalia', 'South Vietnam', 'Sri Lanka', 'Swaziland', 'Switzerland', 'Tanzania', 'Togo', 'Uganda', 'Uruguay', 'Yemen, Dem. Rep. (South Yemen)', 'Zambia', 'Zimbabwe']\n",
    "Final_oil=\"oil_value_2014~year+gas_value_nom+oil_price_nom+oil_gas_value_2014+oil_value_nom+gas_prod55_14+gas_value_2014+gas_exports+mult_nom_2014\"\n",
    "def Accuracy(cty):\n",
    "    col=Final_oil.split('~')[1].split('+');col.append('oil_value_2014');data=df.loc[df['cty_name']==cty,col];np.random.seed(42)\n",
    "    \n",
    "    #Spliting Data Randomly\n",
    "    Xtrain,Xtest,Ytrain,Ytest=train_test_split(data.drop('oil_value_2014',axis=1),data['oil_value_2014'],test_size=0.3,random_state=42)\n",
    "    \n",
    "    #Spliting Data  Sequentially\n",
    "    #Xtrain = data.iloc[0:round(data.shape[0]*0.7),:];Xtest = data.iloc[round(data.shape[0]*0.7):,:];Ytrain=Xtrain.pop('oil_value_2014');Ytest=Xtest.pop('oil_value_2014')\n",
    "    \n",
    "    #Model Building\n",
    "    model=CatBoostRegressor(silent=True);model.fit(Xtrain,Ytrain); pred=model.predict(Xtest);predtr=model.predict(Xtrain)\n",
    "      \n",
    "    #Creating DataFrame for  train & Test\n",
    "    train_d=pd.DataFrame();test_d=pd.DataFrame();train_d['Actual']=Ytrain;train_d['Predicted']=model.predict(Xtrain);train_d['Year']=Xtrain.year;test_d['Actual']=Ytest;test_d['Predicted']=model.predict(Xtest);test_d['Year']=Xtest.year;\n",
    "    \n",
    "    #For Plot Purpose\n",
    "    fig=plt.figure(figsize=(15,5));ax=fig.add_subplot(1,2,1);ax1=fig.add_subplot(1,2,2);train_d.sort_values('Year').plot(x = 'Year',y = ['Actual','Predicted'],ax=ax);ax.set_title('Train')\n",
    "    test_d.sort_values('Year').plot(x = 'Year',y = ['Actual','Predicted'],ax=ax1);ax1.set_title('Test')\n",
    "    \n",
    "    #For Loss Function\n",
    "    print(f'Our Model RMSE for Train data is: {np.sqrt(np.mean((Ytrain-predtr)**2))}')\n",
    "    #print(f\"MAPE is {(np.mean(abs((Ytrain-predtr))/Ytrain))*100}\")\n",
    "    print(f\"Our Model Accuracy for Train data is: {model.score(Xtrain,Ytrain)**100}\")\n",
    "    print('_______________________________________________')\n",
    "    print(f'Our Model RMSE for Test data is: {np.sqrt(np.mean((Ytest-pred)**2))}')\n",
    "    #print(f\"MAPE is {(np.mean(abs((Ytest-pred))/Ytest))*100}\")\n",
    "    print(f\"Our Model Accuracy for Test data is: {model.score(Xtest,Ytest)**100}\")\n",
    "    \n",
    "interact(Accuracy,cty=[i for i in sorted(set(df['cty_name'])) if i not in no_oil])"
   ]
  },
  {
   "cell_type": "markdown",
   "metadata": {},
   "source": [
    "## GradientBoost"
   ]
  },
  {
   "cell_type": "code",
   "execution_count": 4,
   "metadata": {},
   "outputs": [
    {
     "data": {
      "application/vnd.jupyter.widget-view+json": {
       "model_id": "1895cc4f655749c2a18cbe2bdd26abbc",
       "version_major": 2,
       "version_minor": 0
      },
      "text/plain": [
       "interactive(children=(Dropdown(description='cty', options=('Albania', 'Algeria', 'Angola', 'Argentina', 'Austr…"
      ]
     },
     "metadata": {},
     "output_type": "display_data"
    },
    {
     "data": {
      "text/plain": [
       "<function __main__.Accuracy(cty)>"
      ]
     },
     "execution_count": 4,
     "metadata": {},
     "output_type": "execute_result"
    }
   ],
   "source": [
    "no_oil=['Afghanistan', 'Armenia', 'Bahamas, The', 'Belgium', 'Bhutan', 'Bosnia and Herzegovina', 'Botswana', 'Burkina Faso', 'Burundi', 'Cambodia', 'Cape Verde', 'Central African Republic', 'Comoros', 'Costa Rica', 'Cyprus', 'Djibouti', 'Dominican Republic', 'El Salvador', 'Eritrea', 'Ethiopia', 'Ethiopia including Eritrea', 'Fiji', 'Finland', 'Gambia, The', 'Guinea', 'Guinea-Bissau', 'Guyana', 'Haiti', 'Honduras', 'Iceland', 'Ireland', 'Jamaica', 'Kenya', 'Korea, Dem. Rep.', 'Korea, Rep.', 'Lao PDR', 'Latvia', 'Lebanon', 'Lesotho', 'Liberia', 'Luxembourg', 'Macedonia, FYR', 'Madagascar', 'Malawi', 'Maldives', 'Mali', 'Malta', 'Mauritius', 'Moldova', 'Montenegro', 'Mozambique', 'Namibia', 'Nepal', 'Nicaragua', 'North Vietnam', 'Panama', 'Paraguay', 'Portugal', 'Rwanda', 'Sierra Leone', 'Singapore', 'Solomon Islands', 'Somalia', 'South Vietnam', 'Sri Lanka', 'Swaziland', 'Switzerland', 'Tanzania', 'Togo', 'Uganda', 'Uruguay', 'Yemen, Dem. Rep. (South Yemen)', 'Zambia', 'Zimbabwe']\n",
    "Final_oil=\"oil_value_2014~year+gas_value_nom+oil_price_nom+oil_gas_value_2014+oil_value_nom+gas_prod55_14+gas_value_2014+gas_exports+mult_nom_2014\"\n",
    "def Accuracy(cty):\n",
    "    col=Final_oil.split('~')[1].split('+');col.append('oil_value_2014');data=df.loc[df['cty_name']==cty,col];np.random.seed(42)\n",
    "    \n",
    "    #Spliting Data Randomly\n",
    "    Xtrain,Xtest,Ytrain,Ytest=train_test_split(data.drop('oil_value_2014',axis=1),data['oil_value_2014'],test_size=0.3,random_state=42)\n",
    "    \n",
    "    #Spliting Data  Sequentially\n",
    "    #Xtrain = data.iloc[0:round(data.shape[0]*0.7),:];Xtest = data.iloc[round(data.shape[0]*0.7):,:];Ytrain=Xtrain.pop('oil_value_2014');Ytest=Xtest.pop('oil_value_2014')\n",
    "    \n",
    "    #Model Building\n",
    "    model=GradientBoostingRegressor();model.fit(Xtrain,Ytrain); pred=model.predict(Xtest);predtr=model.predict(Xtrain)\n",
    "      \n",
    "    #Creating DataFrame for  train & Test\n",
    "    train_d=pd.DataFrame();test_d=pd.DataFrame();train_d['Actual']=Ytrain;train_d['Predicted']=model.predict(Xtrain);train_d['Year']=Xtrain.year;test_d['Actual']=Ytest;test_d['Predicted']=model.predict(Xtest);test_d['Year']=Xtest.year;\n",
    "    \n",
    "    #For Plot Purpose\n",
    "    fig=plt.figure(figsize=(15,5));ax=fig.add_subplot(1,2,1);ax1=fig.add_subplot(1,2,2);train_d.sort_values('Year').plot(x = 'Year',y = ['Actual','Predicted'],ax=ax);ax.set_title('Train')\n",
    "    test_d.sort_values('Year').plot(x = 'Year',y = ['Actual','Predicted'],ax=ax1);ax1.set_title('Test')\n",
    "    #For Loss Function\n",
    "    print(f'Our Model RMSE for Train data is: {np.sqrt(np.mean((Ytrain-predtr)**2))}')\n",
    "    #print(f\"MAPE is {(np.mean(abs((Ytrain-predtr))/Ytrain))*100}\")\n",
    "    print(f\"Our Model Accuracy for Train data is: {model.score(Xtrain,Ytrain)**100}\")\n",
    "    print('_______________________________________________')\n",
    "    print(f'Our Model RMSE for Test data is: {np.sqrt(np.mean((Ytest-pred)**2))}')\n",
    "    #print(f\"MAPE is {np.mean(abs((Ytest-pred))*100/Ytest)}\")\n",
    "    print(f\"Our Model Accuracy for Test data is: {model.score(Xtest,Ytest)**100}\")\n",
    "    \n",
    "interact(Accuracy,cty=[i for i in sorted(set(df['cty_name'])) if i not in no_oil])"
   ]
  },
  {
   "cell_type": "markdown",
   "metadata": {},
   "source": [
    "## Random Forest"
   ]
  },
  {
   "cell_type": "code",
   "execution_count": 5,
   "metadata": {},
   "outputs": [
    {
     "data": {
      "application/vnd.jupyter.widget-view+json": {
       "model_id": "ddfdcac595e840e0bd6ab4c9287bc820",
       "version_major": 2,
       "version_minor": 0
      },
      "text/plain": [
       "interactive(children=(Dropdown(description='cty', options=('Albania', 'Algeria', 'Angola', 'Argentina', 'Austr…"
      ]
     },
     "metadata": {},
     "output_type": "display_data"
    },
    {
     "data": {
      "text/plain": [
       "<function __main__.Accuracy(cty)>"
      ]
     },
     "execution_count": 5,
     "metadata": {},
     "output_type": "execute_result"
    }
   ],
   "source": [
    "no_oil=['Afghanistan', 'Armenia', 'Bahamas, The', 'Belgium', 'Bhutan', 'Bosnia and Herzegovina', 'Botswana', 'Burkina Faso', 'Burundi', 'Cambodia', 'Cape Verde', 'Central African Republic', 'Comoros', 'Costa Rica', 'Cyprus', 'Djibouti', 'Dominican Republic', 'El Salvador', 'Eritrea', 'Ethiopia', 'Ethiopia including Eritrea', 'Fiji', 'Finland', 'Gambia, The', 'Guinea', 'Guinea-Bissau', 'Guyana', 'Haiti', 'Honduras', 'Iceland', 'Ireland', 'Jamaica', 'Kenya', 'Korea, Dem. Rep.', 'Korea, Rep.', 'Lao PDR', 'Latvia', 'Lebanon', 'Lesotho', 'Liberia', 'Luxembourg', 'Macedonia, FYR', 'Madagascar', 'Malawi', 'Maldives', 'Mali', 'Malta', 'Mauritius', 'Moldova', 'Montenegro', 'Mozambique', 'Namibia', 'Nepal', 'Nicaragua', 'North Vietnam', 'Panama', 'Paraguay', 'Portugal', 'Rwanda', 'Sierra Leone', 'Singapore', 'Solomon Islands', 'Somalia', 'South Vietnam', 'Sri Lanka', 'Swaziland', 'Switzerland', 'Tanzania', 'Togo', 'Uganda', 'Uruguay', 'Yemen, Dem. Rep. (South Yemen)', 'Zambia', 'Zimbabwe']\n",
    "Final_oil=\"oil_value_2014~year+gas_value_nom+oil_price_nom+oil_gas_value_2014+oil_value_nom+gas_prod55_14+gas_value_2014+gas_exports+mult_nom_2014\"\n",
    "def Accuracy(cty):\n",
    "    col=Final_oil.split('~')[1].split('+');col.append('oil_value_2014');data=df.loc[df['cty_name']==cty,col];np.random.seed(42)\n",
    "    \n",
    "    #Spliting Data Randomly\n",
    "    Xtrain,Xtest,Ytrain,Ytest=train_test_split(data.drop('oil_value_2014',axis=1),data['oil_value_2014'],test_size=0.3,random_state=42)\n",
    "    \n",
    "    #Spliting Data  Sequentially\n",
    "    #Xtrain = data.iloc[0:round(data.shape[0]*0.7),:];Xtest = data.iloc[round(data.shape[0]*0.7):,:];Ytrain=Xtrain.pop('oil_value_2014');Ytest=Xtest.pop('oil_value_2014')\n",
    "    \n",
    "    #Model Building\n",
    "    model=RandomForestRegressor();model.fit(Xtrain,Ytrain); pred=model.predict(Xtest);predtr=model.predict(Xtrain)\n",
    "      \n",
    "    #Creating DataFrame for  train & Test\n",
    "    train_d=pd.DataFrame();test_d=pd.DataFrame();train_d['Actual']=Ytrain;train_d['Predicted']=model.predict(Xtrain);train_d['Year']=Xtrain.year;test_d['Actual']=Ytest;test_d['Predicted']=model.predict(Xtest);test_d['Year']=Xtest.year;\n",
    "    \n",
    "    #For Plot Purpose\n",
    "    fig=plt.figure(figsize=(15,5));ax=fig.add_subplot(1,2,1);ax1=fig.add_subplot(1,2,2);train_d.sort_values('Year').plot(x = 'Year',y = ['Actual','Predicted'],ax=ax);ax.set_title('Train')\n",
    "    test_d.sort_values('Year').plot(x = 'Year',y = ['Actual','Predicted'],ax=ax1);ax1.set_title('Test')\n",
    "    #For Loss Function\n",
    "    print(f'Our Model RMSE for Train data is: {np.sqrt(np.mean((Ytrain-predtr)**2))}')\n",
    "    #print(f\"MAPE is {np.mean(abs((Ytrain-predtr))*100/Ytrain)}\")\n",
    "    print(f\"Our Model Accuracy for Train data is: {model.score(Xtrain,Ytrain)**100}\")\n",
    "    print('_______________________________________________')\n",
    "    print(f'Our Model RMSE for Test data is: {np.sqrt(np.mean((Ytest-pred)**2))}')\n",
    "    #print(f\"MAPE is {np.mean(abs((Ytest-pred))*100/Ytest)}\")\n",
    "    print(f\"Our Model Accuracy for Test data is: {model.score(Xtest,Ytest)**100}\")\n",
    "    \n",
    "interact(Accuracy,cty=[i for i in sorted(set(df['cty_name'])) if i not in no_oil])"
   ]
  },
  {
   "cell_type": "markdown",
   "metadata": {},
   "source": [
    "## XGBoost"
   ]
  },
  {
   "cell_type": "code",
   "execution_count": 6,
   "metadata": {},
   "outputs": [
    {
     "data": {
      "application/vnd.jupyter.widget-view+json": {
       "model_id": "d457069524484263bed4dd4e183aa183",
       "version_major": 2,
       "version_minor": 0
      },
      "text/plain": [
       "interactive(children=(Dropdown(description='cty', options=('Albania', 'Algeria', 'Angola', 'Argentina', 'Austr…"
      ]
     },
     "metadata": {},
     "output_type": "display_data"
    },
    {
     "data": {
      "text/plain": [
       "<function __main__.Accuracy(cty)>"
      ]
     },
     "execution_count": 6,
     "metadata": {},
     "output_type": "execute_result"
    }
   ],
   "source": [
    "no_oil=['Afghanistan', 'Armenia', 'Bahamas, The', 'Belgium', 'Bhutan', 'Bosnia and Herzegovina', 'Botswana', 'Burkina Faso', 'Burundi', 'Cambodia', 'Cape Verde', 'Central African Republic', 'Comoros', 'Costa Rica', 'Cyprus', 'Djibouti', 'Dominican Republic', 'El Salvador', 'Eritrea', 'Ethiopia', 'Ethiopia including Eritrea', 'Fiji', 'Finland', 'Gambia, The', 'Guinea', 'Guinea-Bissau', 'Guyana', 'Haiti', 'Honduras', 'Iceland', 'Ireland', 'Jamaica', 'Kenya', 'Korea, Dem. Rep.', 'Korea, Rep.', 'Lao PDR', 'Latvia', 'Lebanon', 'Lesotho', 'Liberia', 'Luxembourg', 'Macedonia, FYR', 'Madagascar', 'Malawi', 'Maldives', 'Mali', 'Malta', 'Mauritius', 'Moldova', 'Montenegro', 'Mozambique', 'Namibia', 'Nepal', 'Nicaragua', 'North Vietnam', 'Panama', 'Paraguay', 'Portugal', 'Rwanda', 'Sierra Leone', 'Singapore', 'Solomon Islands', 'Somalia', 'South Vietnam', 'Sri Lanka', 'Swaziland', 'Switzerland', 'Tanzania', 'Togo', 'Uganda', 'Uruguay', 'Yemen, Dem. Rep. (South Yemen)', 'Zambia', 'Zimbabwe']\n",
    "Final_oil=\"oil_value_2014~year+gas_value_nom+oil_price_nom+oil_gas_value_2014+oil_value_nom+gas_prod55_14+gas_value_2014+gas_exports+mult_nom_2014\"\n",
    "def Accuracy(cty):\n",
    "    col=Final_oil.split('~')[1].split('+');col.append('oil_value_2014');data=df.loc[df['cty_name']==cty,col];np.random.seed(42)\n",
    "    \n",
    "    #Spliting Data Randomly\n",
    "    #Xtrain,Xtest,Ytrain,Ytest=train_test_split(data.drop('oil_value_2014',axis=1),data['oil_value_2014'],test_size=0.3,random_state=42)\n",
    "    \n",
    "    #Spliting Data  Sequentially\n",
    "    Xtrain = data.iloc[0:round(data.shape[0]*0.7),:];Xtest = data.iloc[round(data.shape[0]*0.7):,:];Ytrain=Xtrain.pop('oil_value_2014');Ytest=Xtest.pop('oil_value_2014')\n",
    "    \n",
    "    #Model Building\n",
    "    model=XGBRegressor();model.fit(Xtrain,Ytrain); pred=model.predict(Xtest);predtr=model.predict(Xtrain)\n",
    "      \n",
    "    #Creating DataFrame for  train & Test\n",
    "    train_d=pd.DataFrame();test_d=pd.DataFrame();train_d['Actual']=Ytrain;train_d['Predicted']=model.predict(Xtrain);train_d['Year']=Xtrain.year;test_d['Actual']=Ytest;test_d['Predicted']=model.predict(Xtest);test_d['Year']=Xtest.year;\n",
    "    \n",
    "    #For Plot Purpose\n",
    "    fig=plt.figure(figsize=(15,5));ax=fig.add_subplot(1,2,1);ax1=fig.add_subplot(1,2,2)\n",
    "    train_d.sort_values('Year').plot(x = 'Year',y = ['Actual','Predicted'],ax=ax);ax.set_title('Train')\n",
    "    test_d.sort_values('Year').plot(x = 'Year',y = ['Actual','Predicted'],ax=ax1);ax1.set_title('Test')\n",
    "    \n",
    "    #For Loss Function\n",
    "    print(f'Our Model RMSE for Train data is: {np.sqrt(np.mean((Ytrain-predtr)**2))}')\n",
    "    #print(f\"MAPE is {np.mean(abs((Ytrain-predtr))*100/Ytrain)}\")\n",
    "    print(f\"Our Model Accuracy for Train data is: {model.score(Xtrain,Ytrain)**100}\")\n",
    "    print('_______________________________________________')\n",
    "    print(f'Our Model RMSE for Test data is: {np.sqrt(np.mean((Ytest-pred)**2))}')\n",
    "    #print(f\"MAPE is {np.mean(abs((Ytest-pred))*100/Ytest)}\")\n",
    "    print(f\"Our Model Accuracy for Test data is: {model.score(Xtest,Ytest)**100}\")\n",
    "    \n",
    "interact(Accuracy,cty=[i for i in sorted(set(df['cty_name'])) if i not in no_oil])"
   ]
  },
  {
   "cell_type": "markdown",
   "metadata": {},
   "source": [
    "# Clustering Model"
   ]
  },
  {
   "cell_type": "markdown",
   "metadata": {},
   "source": [
    "## KNN"
   ]
  },
  {
   "cell_type": "code",
   "execution_count": 7,
   "metadata": {},
   "outputs": [
    {
     "data": {
      "application/vnd.jupyter.widget-view+json": {
       "model_id": "9309fae295ba43df8474f8ced63c88b4",
       "version_major": 2,
       "version_minor": 0
      },
      "text/plain": [
       "interactive(children=(Dropdown(description='cty', options=('Albania', 'Algeria', 'Angola', 'Argentina', 'Austr…"
      ]
     },
     "metadata": {},
     "output_type": "display_data"
    },
    {
     "data": {
      "text/plain": [
       "<function __main__.Accuracy(cty)>"
      ]
     },
     "execution_count": 7,
     "metadata": {},
     "output_type": "execute_result"
    }
   ],
   "source": [
    "no_oil=['Afghanistan', 'Armenia', 'Bahamas, The', 'Belgium', 'Bhutan', 'Bosnia and Herzegovina', 'Botswana', 'Burkina Faso', 'Burundi', 'Cambodia', 'Cape Verde', 'Central African Republic', 'Comoros', 'Costa Rica', 'Cyprus', 'Djibouti', 'Dominican Republic', 'El Salvador', 'Eritrea', 'Ethiopia', 'Ethiopia including Eritrea', 'Fiji', 'Finland', 'Gambia, The', 'Guinea', 'Guinea-Bissau', 'Guyana', 'Haiti', 'Honduras', 'Iceland', 'Ireland', 'Jamaica', 'Kenya', 'Korea, Dem. Rep.', 'Korea, Rep.', 'Lao PDR', 'Latvia', 'Lebanon', 'Lesotho', 'Liberia', 'Luxembourg', 'Macedonia, FYR', 'Madagascar', 'Malawi', 'Maldives', 'Mali', 'Malta', 'Mauritius', 'Moldova', 'Montenegro', 'Mozambique', 'Namibia', 'Nepal', 'Nicaragua', 'North Vietnam', 'Panama', 'Paraguay', 'Portugal', 'Rwanda', 'Sierra Leone', 'Singapore', 'Solomon Islands', 'Somalia', 'South Vietnam', 'Sri Lanka', 'Swaziland', 'Switzerland', 'Tanzania', 'Togo', 'Uganda', 'Uruguay', 'Yemen, Dem. Rep. (South Yemen)', 'Zambia', 'Zimbabwe']\n",
    "Final_oil=\"oil_value_2014~year+gas_value_nom+oil_price_nom+oil_gas_value_2014+oil_value_nom+gas_prod55_14+gas_value_2014+gas_exports+mult_nom_2014\"\n",
    "def Accuracy(cty):\n",
    "    col=Final_oil.split('~')[1].split('+');col.append('oil_value_2014')\n",
    "    data=df.loc[df['cty_name']==cty,col]\n",
    "    np.random.seed(42)\n",
    "\n",
    "    #Spliting Data Randomly\n",
    "    Xtrain,Xtest,Ytrain,Ytest=train_test_split(data.drop('oil_value_2014',axis=1),data['oil_value_2014'],test_size=0.3,random_state=42)\n",
    "    \n",
    "    #Spliting Data  Sequentially\n",
    "    #Xtrain = data.iloc[0:round(data.shape[0]*0.7),:];Xtest = data.iloc[round(data.shape[0]*0.7):,:];Ytrain=Xtrain.pop('oil_value_2014');Ytest=Xtest.pop('oil_value_2014')\n",
    "    \n",
    "    #Model Building\n",
    "    model=KNeighborsRegressor()\n",
    "    model.fit(Xtrain,Ytrain)\n",
    "    pred=model.predict(Xtest);predtr=model.predict(Xtrain)\n",
    "    \n",
    "    #Creating DataFrame for  train & Test\n",
    "    train_d=pd.DataFrame();test_d=pd.DataFrame()\n",
    "    train_d['Actual']=Ytrain;train_d['Predicted']=model.predict(Xtrain);train_d['Year']=Xtrain.year\n",
    "    test_d['Actual']=Ytest;test_d['Predicted']=model.predict(Xtest);test_d['Year']=Xtest.year\n",
    "    \n",
    "    #For Plot Purpose\n",
    "    fig=plt.figure(figsize=(15,5))\n",
    "    ax=fig.add_subplot(1,2,1)\n",
    "    ax1=fig.add_subplot(1,2,2)\n",
    "    train_d.sort_values('Year').plot(x = 'Year',y = ['Actual','Predicted'],ax=ax);ax.set_title('Train')\n",
    "    test_d.sort_values('Year').plot(x = 'Year',y = ['Actual','Predicted'],ax=ax1);ax1.set_title('Test')\n",
    "    \n",
    "    #For Loss Function\n",
    "    print(f'Our Model RMSE for Train data is: {np.sqrt(np.mean((Ytrain-predtr)**2))}')\n",
    "    #print(f\"MAPE is {np.mean(abs((Ytrain-predtr))*100/Ytrain)}\")\n",
    "    print(f\"Our Model Accuracy for Train data is: {model.score(Xtrain,Ytrain)**100}\")\n",
    "    print('_______________________________________________')\n",
    "    print(f'Our Model RMSE for Test data is: {np.sqrt(np.mean((Ytest-pred)**2))}')\n",
    "    #print(f\"MAPE is {np.mean(abs((Ytest-pred))*100/Ytest)}\")\n",
    "    print(f\"Our Model Accuracy for Test data is: {model.score(Xtest,Ytest)**100}\")\n",
    "    \n",
    "interact(Accuracy,cty=[i for i in sorted(set(df['cty_name'])) if i not in no_oil])"
   ]
  },
  {
   "cell_type": "markdown",
   "metadata": {},
   "source": [
    "# Linear Model"
   ]
  },
  {
   "cell_type": "markdown",
   "metadata": {},
   "source": [
    "## Linear regression"
   ]
  },
  {
   "cell_type": "code",
   "execution_count": 8,
   "metadata": {},
   "outputs": [
    {
     "data": {
      "application/vnd.jupyter.widget-view+json": {
       "model_id": "b64c8fd13ca84a06ae086c9a8b6e132d",
       "version_major": 2,
       "version_minor": 0
      },
      "text/plain": [
       "interactive(children=(Dropdown(description='cty', options=('Albania', 'Algeria', 'Angola', 'Argentina', 'Austr…"
      ]
     },
     "metadata": {},
     "output_type": "display_data"
    },
    {
     "data": {
      "text/plain": [
       "<function __main__.Accuracy(cty)>"
      ]
     },
     "execution_count": 8,
     "metadata": {},
     "output_type": "execute_result"
    }
   ],
   "source": [
    "no_oil=['Afghanistan', 'Armenia', 'Bahamas, The', 'Belgium', 'Bhutan', 'Bosnia and Herzegovina', 'Botswana', 'Burkina Faso', 'Burundi', 'Cambodia', 'Cape Verde', 'Central African Republic', 'Comoros', 'Costa Rica', 'Cyprus', 'Djibouti', 'Dominican Republic', 'El Salvador', 'Eritrea', 'Ethiopia', 'Ethiopia including Eritrea', 'Fiji', 'Finland', 'Gambia, The', 'Guinea', 'Guinea-Bissau', 'Guyana', 'Haiti', 'Honduras', 'Iceland', 'Ireland', 'Jamaica', 'Kenya', 'Korea, Dem. Rep.', 'Korea, Rep.', 'Lao PDR', 'Latvia', 'Lebanon', 'Lesotho', 'Liberia', 'Luxembourg', 'Macedonia, FYR', 'Madagascar', 'Malawi', 'Maldives', 'Mali', 'Malta', 'Mauritius', 'Moldova', 'Montenegro', 'Mozambique', 'Namibia', 'Nepal', 'Nicaragua', 'North Vietnam', 'Panama', 'Paraguay', 'Portugal', 'Rwanda', 'Sierra Leone', 'Singapore', 'Solomon Islands', 'Somalia', 'South Vietnam', 'Sri Lanka', 'Swaziland', 'Switzerland', 'Tanzania', 'Togo', 'Uganda', 'Uruguay', 'Yemen, Dem. Rep. (South Yemen)', 'Zambia', 'Zimbabwe']\n",
    "Final_oil=\"oil_value_2014~year+gas_value_nom+oil_price_nom+oil_gas_value_2014+oil_value_nom+gas_prod55_14+gas_value_2014+gas_exports+mult_nom_2014\"\n",
    "def Accuracy(cty):\n",
    "    col=Final_oil.split('~')[1].split('+');col.append('oil_value_2014')\n",
    "    data=df.loc[df['cty_name']==cty,col]\n",
    "    np.random.seed(42)\n",
    "\n",
    "    #Spliting Data Randomly\n",
    "    #Xtrain,Xtest,Ytrain,Ytest=train_test_split(data.drop('oil_value_2014',axis=1),data['oil_value_2014'],test_size=0.3,random_state=42)\n",
    "    \n",
    "    #Spliting Data  Sequentially\n",
    "    Xtrain = data.iloc[0:round(data.shape[0]*0.7),:];Xtest = data.iloc[round(data.shape[0]*0.7):,:];Ytrain=Xtrain.pop('oil_value_2014');Ytest=Xtest.pop('oil_value_2014')\n",
    "    \n",
    "    #Model Building\n",
    "    model=LinearRegression(n_jobs=-1)\n",
    "    model.fit(Xtrain,Ytrain)\n",
    "    pred=model.predict(Xtest);predtr=model.predict(Xtrain)\n",
    "    \n",
    "    #Creating DataFrame for  train & Test\n",
    "    train_d=pd.DataFrame();test_d=pd.DataFrame()\n",
    "    train_d['Actual']=Ytrain;train_d['Predicted']=model.predict(Xtrain);train_d['Year']=Xtrain.year\n",
    "    test_d['Actual']=Ytest;test_d['Predicted']=model.predict(Xtest);test_d['Year']=Xtest.year\n",
    "    \n",
    "    #For Plot Purpose\n",
    "    fig=plt.figure(figsize=(15,5))\n",
    "    ax=fig.add_subplot(1,2,1)\n",
    "    ax1=fig.add_subplot(1,2,2)\n",
    "    train_d.sort_values('Year').plot(x = 'Year',y = ['Actual','Predicted'],ax=ax);ax.set_title('Train')\n",
    "    test_d.sort_values('Year').plot(x = 'Year',y = ['Actual','Predicted'],ax=ax1);ax1.set_title('Test')\n",
    "    \n",
    "    #For Loss Function\n",
    "    print(f'Our Model RMSE for Train data is: {np.sqrt(np.mean((Ytrain-predtr)**2))}')\n",
    "    print(f\"MAPE is {np.mean(abs((Ytrain-predtr))*100/Ytrain)}\")\n",
    "    print(f\"Our Model Accuracy for Train data is: {model.score(Xtrain,Ytrain)**100}\")\n",
    "    print('_______________________________________________')\n",
    "    print(f'Our Model RMSE for Test data is: {np.sqrt(np.mean((Ytest-pred)**2))}')\n",
    "    print(f\"MAPE is {np.mean(abs((Ytest-pred))*100/Ytest)}\")\n",
    "    print(f\"Our Model Accuracy for Test data is: {model.score(Xtest,Ytest)**100}\")\n",
    "    \n",
    "interact(Accuracy,cty=[i for i in sorted(set(df['cty_name'])) if i not in no_oil])"
   ]
  },
  {
   "cell_type": "code",
   "execution_count": null,
   "metadata": {},
   "outputs": [],
   "source": []
  }
 ],
 "metadata": {
  "kernelspec": {
   "display_name": "Python 3",
   "language": "python",
   "name": "python3"
  },
  "language_info": {
   "codemirror_mode": {
    "name": "ipython",
    "version": 3
   },
   "file_extension": ".py",
   "mimetype": "text/x-python",
   "name": "python",
   "nbconvert_exporter": "python",
   "pygments_lexer": "ipython3",
   "version": "3.6.5"
  },
  "toc": {
   "base_numbering": 1,
   "nav_menu": {},
   "number_sections": true,
   "sideBar": true,
   "skip_h1_title": false,
   "title_cell": "Table of Contents",
   "title_sidebar": "Contents",
   "toc_cell": false,
   "toc_position": {},
   "toc_section_display": true,
   "toc_window_display": false
  }
 },
 "nbformat": 4,
 "nbformat_minor": 2
}
